{
 "cells": [
  {
   "cell_type": "markdown",
   "metadata": {},
   "source": [
    "# <center>Final Project Title</center>\n",
    "<center>By Firstname Lastname (abc123)</center>\n",
    "<center>abc123@my.utsa.edu</center>\n",
    "<center>DS 5023 - Spring 2021</center>\n",
    "\n",
    "# Introduction\n",
    "Provide background information about your topic and the questions you are answering. Discuss the significance of your topic.\n",
    "\n",
    "Lorem ipsum dolor sit amet, consectetur adipiscing elit. Nunc fermentum non quam sit amet luctus. Proin id condimentum quam. Sed augue quam, venenatis non interdum vitae, congue quis lorem. Orci varius natoque penatibus et magnis dis parturient montes, nascetur ridiculus mus. Ut porta eget massa non varius. Fusce at eros vitae est dictum accumsan. Sed elementum, massa sit amet tincidunt sagittis, nisl felis molestie nisi, et finibus sapien libero eget elit. Aenean aliquam urna nec turpis tempus, non mattis nunc suscipit. Vivamus blandit, lacus et pharetra aliquet, tortor libero ornare elit, eu sollicitudin magna tortor vitae felis. Donec elementum elit neque, in congue sem gravida ac.\n",
    "\n",
    "Mauris dapibus egestas ex, at iaculis arcu tristique et. Vestibulum ante ipsum primis in faucibus orci luctus et ultrices posuere cubilia curae; Mauris egestas dui sagittis, rutrum magna nec, iaculis metus. Donec at congue nibh, vel semper dui. Nullam semper semper tortor vel euismod. Vestibulum maximus felis nisi, quis facilisis tortor suscipit ut. Phasellus eros felis, hendrerit nec est ut, iaculis condimentum magna. Vestibulum in justo eu metus rhoncus bibendum eget id erat. Suspendisse luctus ex mi, sit amet sagittis elit blandit in. Phasellus eleifend elit sed velit aliquet tristique. Integer ac libero gravida, vehicula nisl at, ultrices dui. Etiam vulputate, sapien ut luctus dictum, arcu neque scelerisque magna, ut ultrices enim dui lacinia arcu. Fusce posuere quam vel ligula vulputate, in finibus mi varius.\n",
    "\n",
    "# Background\n",
    "\n",
    "Conduct a brief review of literature on this topic. Your review of literature should discuss previous research on this topic, their findings, and commonalities among those studies. Your review of literature should include at least 5 recent studies. Additionally, your review of literature should explain the various theories or constructs involved with your topic, particularly with respect to the variables you are studying. \n",
    "\n",
    "Sed ornare aliquet orci, a faucibus arcu malesuada non. Sed nunc odio, vestibulum vitae mauris vitae, maximus dapibus urna. Etiam non elit ante. Suspendisse iaculis vehicula lorem, id sodales est molestie at. Sed porttitor dolor nec efficitur volutpat. Sed est diam, fringilla at pellentesque ut, malesuada sed justo. Cras ultricies lorem eu ante bibendum porta. Fusce rhoncus iaculis elit, at molestie turpis congue eu. Maecenas ex turpis, ornare a congue eget, interdum nec quam. Phasellus nunc urna, fringilla non tempus a, finibus ac libero. Fusce tempor et mi ac viverra. Etiam ac dui dictum velit rutrum tincidunt sit amet sit amet sapien. Duis nec nulla quis arcu vestibulum rutrum. Phasellus maximus quis odio quis condimentum.\n",
    "\n",
    "Pellentesque tincidunt accumsan sagittis. Integer eu fermentum lorem. Donec eget tristique turpis. Cras tincidunt imperdiet est, eu malesuada risus. Suspendisse sed cursus turpis. Morbi tortor justo, suscipit a ex sit amet, viverra faucibus lorem. Fusce maximus porttitor erat a egestas. Praesent id faucibus justo. Proin eleifend eget lorem tristique pulvinar. Nulla gravida iaculis venenatis. Pellentesque et posuere ante, sit amet commodo nunc. Nunc non imperdiet enim.\n",
    "\n",
    "Phasellus sed hendrerit nibh. Nam viverra, tellus a dapibus condimentum, massa dolor sodales nulla, eget vulputate turpis elit sed ante. Morbi non orci condimentum, dapibus arcu non, tincidunt tortor. Vestibulum ante ipsum primis in faucibus orci luctus et ultrices posuere cubilia curae; Integer eget facilisis tortor. Duis et nisl bibendum, fringilla leo quis, gravida tortor. Fusce est ligula, congue at diam et, scelerisque varius sem.\n",
    "\n",
    "# Methods\n",
    "\n",
    "Describe your methods for data collection and the approaches to analysis. \n",
    "\n",
    "Lorem ipsum dolor sit amet, consectetur adipiscing elit. Nunc fermentum non quam sit amet luctus. Proin id condimentum quam. Sed augue quam, venenatis non interdum vitae, congue quis lorem. Orci varius natoque penatibus et magnis dis parturient montes, nascetur ridiculus mus. Ut porta eget massa non varius. Fusce at eros vitae est dictum accumsan. Sed elementum, massa sit amet tincidunt sagittis, nisl felis molestie nisi, et finibus sapien libero eget elit. Aenean aliquam urna nec turpis tempus, non mattis nunc suscipit. Vivamus blandit, lacus et pharetra aliquet, tortor libero ornare elit, eu sollicitudin magna tortor vitae felis. Donec elementum elit neque, in congue sem gravida ac.\n",
    "\n",
    "## Data\n",
    "\n",
    "Provide the source of your data, especially if you are involving data that was collected within a specific time frame. \n",
    "\n",
    "Morbi non orci condimentum, dapibus arcu non, tincidunt tortor. Vestibulum ante ipsum primis in faucibus orci luctus et ultrices posuere cubilia curae; Integer eget facilisis tortor. Duis et nisl bibendum, fringilla leo quis, gravida tortor. Fusce est ligula, congue at diam et, scelerisque varius sem."
   ]
  },
  {
   "cell_type": "code",
   "execution_count": 1,
   "metadata": {},
   "outputs": [],
   "source": [
    "# import and process your data here"
   ]
  },
  {
   "cell_type": "markdown",
   "metadata": {},
   "source": [
    "## Analysis\n",
    "\n",
    "Describe your analysis plan and rationale. Your code for analyzing, presenting the results, and visualizing the data are here.\n",
    "\n",
    "Sed ornare aliquet orci, a faucibus arcu malesuada non. Sed nunc odio, vestibulum vitae mauris vitae, maximus dapibus urna. Etiam non elit ante. Suspendisse iaculis vehicula lorem, id sodales est molestie at. Sed porttitor dolor nec efficitur volutpat. Sed est diam, fringilla at pellentesque ut, malesuada sed justo. Cras ultricies lorem eu ante bibendum porta. Fusce rhoncus iaculis elit, at molestie turpis congue eu. Maecenas ex turpis, ornare a congue eget, interdum nec quam. Phasellus nunc urna, fringilla non tempus a, finibus ac libero. Fusce tempor et mi ac viverra. Etiam ac dui dictum velit rutrum tincidunt sit amet sit amet sapien. Duis nec nulla quis arcu vestibulum rutrum. Phasellus maximus quis odio quis condimentum.\n",
    "\n",
    "Pellentesque tincidunt accumsan sagittis. Integer eu fermentum lorem. Donec eget tristique turpis. Cras tincidunt imperdiet est, eu malesuada risus. Suspendisse sed cursus turpis. Morbi tortor justo, suscipit a ex sit amet, viverra faucibus lorem. Fusce maximus porttitor erat a egestas. Praesent id faucibus justo. Proin eleifend eget lorem tristique pulvinar. Nulla gravi\n"
   ]
  },
  {
   "cell_type": "code",
   "execution_count": 2,
   "metadata": {},
   "outputs": [],
   "source": [
    "# analyze and visualize your data here"
   ]
  },
  {
   "cell_type": "markdown",
   "metadata": {},
   "source": [
    "# Results\n",
    "\n",
    "Present the results and your interpretation of the findings here. It is important that your code results in the same findings each time you run it. Discuss your findings with respect to the research you reviewed in the Review of Literature.\n",
    "\n",
    "Mauris dapibus egestas ex, at iaculis arcu tristique et. Vestibulum ante ipsum primis in faucibus orci luctus et ultrices posuere cubilia curae; Mauris egestas dui sagittis, rutrum magna nec, iaculis metus. Donec at congue nibh, vel semper dui. Nullam semper semper tortor vel euismod. Vestibulum maximus felis nisi, quis facilisis tortor suscipit ut. Phasellus eros felis, hendrerit nec est ut, iaculis condimentum magna. Vestibulum in justo eu metus rhoncus bibendum eget id erat. Suspendisse luctus ex mi, sit amet sagittis elit blandit in. Phasellus eleifend elit sed velit aliquet tristique. Integer ac libero gravida, vehicula nisl at, ultrices dui. Etiam vulputate, sapien ut luctus dictum, arcu neque scelerisque magna, ut ultrices enim dui lacinia arcu. Fusce posuere quam vel ligula vulputate, in finibus mi varius.\n",
    "\n",
    "Pellentesque tincidunt accumsan sagittis. Integer eu fermentum lorem. Donec eget tristique turpis. Cras tincidunt imperdiet est, eu malesuada risus. Suspendisse sed cursus turpis. Morbi tortor justo, suscipit a ex sit amet, viverra faucibus lorem. Fusce maximus porttitor erat a egestas. Praesent id faucibus justo. Proin eleifend eget lorem tristique pulvinar. Nulla gravida iaculis venenatis. Pellentesque et posuere ante, sit amet commodo nunc. Nunc non imperdiet enim."
   ]
  },
  {
   "cell_type": "markdown",
   "metadata": {},
   "source": [
    "# Conclusion\n",
    "\n",
    "What are the conclusions of your study? Your conclusions must be supported by the data and the findings of your study. Include any limitations to your study as well.\n",
    "\n",
    "Pellentesque tincidunt accumsan sagittis. Integer eu fermentum lorem. Donec eget tristique turpis. Cras tincidunt imperdiet est, eu malesuada risus. Suspendisse sed cursus turpis. Morbi tortor justo, suscipit a ex sit amet, viverra faucibus lorem. Fusce maximus porttitor erat a egestas. Praesent id faucibus justo. Proin eleifend eget lorem tristique pulvinar. Nulla gravida iaculis venenatis. Pellentesque et posuere ante, sit amet commodo nunc. Nunc non imperdiet enim."
   ]
  },
  {
   "cell_type": "markdown",
   "metadata": {},
   "source": [
    "## References\n",
    "\n",
    "Include citations and references. Use whatever style is appropriate for your topic and/or field. Common styles include: APA, MLA, Chicago, IEEE. Just be consistent with your citation style. Due to the formatting limitations of the Jupyter Notebook, it may not be possible to completely adhere to the reference style’s formatting, but try to get it as close as you can.\n",
    "\n",
    "[1] Dhar, V. (2013). Data science and prediction. Communications of the ACM, 56(12), 64-73.\n",
    "\n",
    "[2] Provost, F., & Fawcett, T. (2013). Data science and its relationship to big data and data-driven decision making. Big data, 1(1), 51-59.\n",
    "\n",
    "[3] Swan, M. (2013). The quantified self: Fundamental disruption in big data science and biological discovery. Big data, 1(2), 85-99.\n",
    "\n",
    "[4] Van Der Aalst, W. (2016). Data science in action. In Process mining (pp. 3-23). Springer, Berlin, Heidelberg.\n",
    "\n",
    "[5] Waller, M. A., & Fawcett, S. E. (2013). Data science, predictive analytics, and big data: a revolution that will transform supply chain design and management. Journal of Business Logistics, 34(2), 77-84."
   ]
  },
  {
   "cell_type": "code",
   "execution_count": null,
   "metadata": {},
   "outputs": [],
   "source": []
  }
 ],
 "metadata": {
  "kernelspec": {
   "display_name": "Python 3",
   "language": "python",
   "name": "python3"
  },
  "language_info": {
   "codemirror_mode": {
    "name": "ipython",
    "version": 3
   },
   "file_extension": ".py",
   "mimetype": "text/x-python",
   "name": "python",
   "nbconvert_exporter": "python",
   "pygments_lexer": "ipython3",
   "version": "3.7.6"
  }
 },
 "nbformat": 4,
 "nbformat_minor": 4
}
