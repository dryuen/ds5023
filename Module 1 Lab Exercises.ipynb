{
 "cells": [
  {
   "cell_type": "markdown",
   "metadata": {},
   "source": [
    "# Overview\n",
    "\n",
    "Module 1 reviews programming fundamentals in Python while also using NumPy arrays to hold simple data and Matplotlib and Seaborn packages for visualization. Here are three data science related programming exercises."
   ]
  },
  {
   "cell_type": "code",
   "execution_count": 1,
   "metadata": {},
   "outputs": [],
   "source": [
    "import matplotlib.pyplot as plt\n",
    "import seaborn as sns\n",
    "import random\n",
    "import numpy as np\n"
   ]
  },
  {
   "cell_type": "markdown",
   "metadata": {},
   "source": [
    "## Exercise 1 - Unbalanced Dice\n",
    "\n",
    "This exercise is to simulate the outcomes of rolling two 6-sided dice that are unbalanced. That is, when a player rolls the die, not all sides have an equal chance of appearing. Assume the die is physically weighted somehow so that one side shows up more frequently than the other sides. In our unbalanced die, one side has a 2/7 chance of appearing while all five other sides of a 1/7 chance of appearing when the player rolls it. \n",
    "\n",
    "**Tasks**\n",
    "1. Ask the user to enter the number of rolls in the simulation\n",
    "2. Ask the user to enter the side that is weighted more than the other. The user will enter a number between 1 and 6. Should they enter a number out of the range, then assume that the dice will be balanced (all sides have a 1/6 chance of appearing).\n",
    "3. Write a function named ```rollWeightedDice``` that will simulate the rolling of a 6-sided die that may have one side weighted. It takes in two parameters: the number of sides and the weighted side. The function will return the value of the die after a 'roll'. The function will generate a random number to represent each roll using ```random.randrange()```. If your die is balanced, your range will be 1 through 7 to generate a random number between 1 and 6 inclusive. If your die is unbalanced, your range will be 1 through 8. If 7 is generated, you will need to convert it to the weighted value as entered by the user. \n",
    "4. Simulate the number of rolls. Sum the two die. Keep track of the frequency in a NumPy array.\n",
    "5. Use the Seaborn ```barplot()``` to visualize the outcomes. You will also need a NumPy array to hold the combination of sums that results from rollowing 2 dice (2-12, inclusive).\n",
    "6. Answer questions after the code.\n"
   ]
  },
  {
   "cell_type": "code",
   "execution_count": null,
   "metadata": {},
   "outputs": [],
   "source": []
  },
  {
   "cell_type": "markdown",
   "metadata": {},
   "source": [
    "### Exercise 1 Questions\n",
    "**1. How does weighting one side of a 6-sided die affect the probabilities of sums that can appear from rolling two dice?**\n",
    "\n",
    "\n",
    "**2. With balanced dice, 7 has the highest probability of appearing from rolling two dice. How does weighting one side of the die affect this probability?**\n",
    "\n"
   ]
  },
  {
   "cell_type": "markdown",
   "metadata": {},
   "source": [
    "## Exercise 2 - Dice War\n",
    "\n",
    "This exercise is to simulate a dice version of the children's card game War. The program will determine which player has an advantage of based on these rules below. \n",
    "\n",
    "There are two players: PLAYER and DEALER Each player has a balanced six-sided dice. The rules are:\n",
    "- If either player rolls a six, the game stops. The player with the higher die value wins. If both dice values are the same, then it is a tie. \n",
    "- If neither player has a six in the initial roll, then a player may reroll under these conditions:\n",
    "    - If PLAYER rolled a one, they will reroll their die.\n",
    "    - If BANKER rolled a two or below, they will reroll their die. \n",
    "    - After this reroll, the game stops. The player with the higher die value wins. If both dice values are the same, then it is a tie. \n",
    "\n",
    "**Tasks**\n",
    "\n",
    "1. Ask the user the number of games to simulate\n",
    "2. Keep track of the number of wins by the PLAYER and the BANKER and the number of ties. A dictionary named ```outcomes``` has been declared for you. \n",
    "3. Simulate the dice roll for both players using ```random.randrange()```. Check and implement the reroll cases. \n",
    "4. Determine the outcome and increase the count on the outcomes dictionary\n",
    "5. Print out frequency in percentages for each outcome: PLAYER wins, BANKER wins, TIE.\n",
    "6. Answer the questions below. "
   ]
  },
  {
   "cell_type": "code",
   "execution_count": 37,
   "metadata": {},
   "outputs": [
    {
     "name": "stdout",
     "output_type": "stream",
     "text": [
      "Enter the number of games: 100000\n",
      "{'player': 40744, 'tie': 15735, 'banker': 43521}\n",
      "player wins:  40.744 %\n",
      "banker wins:  43.521 %\n",
      "ties:  15.735 %\n"
     ]
    }
   ],
   "source": []
  },
  {
   "cell_type": "markdown",
   "metadata": {},
   "source": [
    "### Exercise 2 Questions\n",
    "**1. Who has the advantage, if any, under these rules? The PLAYER or the BANKER?**\n",
    "\n",
    "**2. There is a threshold for when the PLAYER and BANKER can reroll (1 for the PLAYER and 2 for the BANKER). Assume that we can move these thresholds but the BANKER will always have a threshold one higher than the BANKER. Under what circumstances would the reroll rules be advantageous to the BANKER?**"
   ]
  },
  {
   "cell_type": "markdown",
   "metadata": {},
   "source": [
    "### Exercise 3 - Predict Smartphone Sales\n",
    "\n",
    "This exercise takes data on smartphone sales between 2005 and 2019 from [Statista](https://www.statista.com/statistics/191985/sales-of-smartphones-in-the-us-since-2005/) and predict how many smart phones will be sold in the future?\n",
    "\n",
    "**Tasks**\n",
    "\n",
    "1. Create two NumPy arrays. The first array will contain years from 2005 to 2018. We will exclude 2019's data and use it to evaluate our prediction model. The second array will contain the data on the smartphone sales in millions. Hardcode these values. in.\n",
    "2. Create a ```matplotlib``` scatterblot using ```scatter()```. \n",
    "3. Then, using ```polyfit()```, compute the coefficients for both the linear (degree is equal to 1) and the quadratic (degree is equal to 2) models, and plot them on the same scatterplot using ```plot()```.\n",
    "4. Using both models, compute the predicted smartphone sales for year 2019 and 2025.\n",
    "5. Answer the questions below."
   ]
  },
  {
   "cell_type": "code",
   "execution_count": null,
   "metadata": {},
   "outputs": [],
   "source": []
  },
  {
   "cell_type": "markdown",
   "metadata": {},
   "source": [
    "### Exercise 3 Questions\n",
    "**1. Based on the linear prediction model, how many millions of smartphones should be sold in the US in 2019? How does that compare to the actual numbera s reported in Statista? How many millions of smartphones should be sold in 2025?**\n",
    "\n",
    "**2. Based on the quadratic prediction model, how many millions of smartphones should be sold in the US in 2019? How does that compare to the actual numbera s reported in Statista? How many millions of smartphones should be sold in 2025?**\n",
    "\n",
    "**3. Which of the prediction models were more accurate compared to what was reported in Statista?**\n"
   ]
  },
  {
   "cell_type": "markdown",
   "metadata": {},
   "source": []
  }
 ],
 "metadata": {
  "kernelspec": {
   "display_name": "Python 3",
   "language": "python",
   "name": "python3"
  },
  "language_info": {
   "codemirror_mode": {
    "name": "ipython",
    "version": 3
   },
   "file_extension": ".py",
   "mimetype": "text/x-python",
   "name": "python",
   "nbconvert_exporter": "python",
   "pygments_lexer": "ipython3",
   "version": "3.7.6"
  }
 },
 "nbformat": 4,
 "nbformat_minor": 4
}
